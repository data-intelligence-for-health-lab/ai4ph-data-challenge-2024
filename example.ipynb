{
 "cells": [
  {
   "cell_type": "markdown",
   "metadata": {},
   "source": [
    "# AI4PH Data Challenge\n",
    "\n",
    "Summer 2024\n",
    "\n",
    "**Yves Nsoga** \n",
    "- PhD Candidate Biomedical Engineering\n",
    "- University of Calgary\n",
    "- [Data Intelligence for Health Lab](https://cumming.ucalgary.ca/dih)    "
   ]
  },
  {
   "cell_type": "code",
   "execution_count": 23,
   "metadata": {},
   "outputs": [],
   "source": [
    "# import all packages here \n",
    "\n",
    "import pandas as pd\n",
    "import numpy as np\n",
    "from PIL import Image\n",
    "import matplotlib.pyplot as plt\n",
    "import plotly_express as px\n",
    "import cv2\n",
    "\n",
    "import os\n",
    "\n",
    "import torch\n",
    "from torch.utils.data import Dataset, DataLoader\n",
    "from torchvision import transforms, models\n",
    "import torch.nn as nn\n",
    "import torch.nn.functional as F\n",
    "import torch.optim as optim\n",
    "\n",
    "import imutils\n",
    "from skimage import io, transform\n",
    "\n",
    "from sklearn.metrics import r2_score\n",
    "from sklearn.preprocessing import LabelEncoder\n",
    "import captum\n",
    "from captum.attr import visualization as viz\n",
    "\n",
    "from captum.attr import IntegratedGradients\n",
    "from captum.attr import Saliency\n",
    "from captum.attr import DeepLift\n",
    "from captum.attr import NoiseTunnel"
   ]
  },
  {
   "cell_type": "markdown",
   "metadata": {},
   "source": [
    "# Data Preprocessing\n",
    "\n",
    "This part encapsule all  functions used to processe images before training.\n",
    "\n",
    "- *stich_image*: stiches images to  remove duplicates, and generate a panoramic vieu of a postal code\n",
    "- *crop*: crop  the biggest rectangle without pixels with  intensity of zero \n",
    "- *generate_panorama*: stiches and crop  images, where ieach  potal code images are stored into a folder.\n"
   ]
  },
  {
   "cell_type": "code",
   "execution_count": 3,
   "metadata": {},
   "outputs": [],
   "source": [
    "# Util functions\n",
    "\n",
    "def stich_image(img_paths: list):\n",
    "    \"\"\"stich images with  overlaping to  generate a panoramic view of the POstal  code\n",
    "\n",
    "    :param img_paths: a list  of image paths\n",
    "    return panoramic_image\n",
    "    \"\"\"\n",
    "    imgs = []\n",
    "    for img_path in img_paths:\n",
    "        img = cv2.imread(img_path)\n",
    "        imgs.append(img)\n",
    "    stitchy = cv2.createStitcher() if imutils.is_cv3() else cv2.Stitcher_create()\n",
    "    (dummy, stiched_output) = stitchy.stitch(imgs)\n",
    "    if dummy == cv2.STITCHER_OK:\n",
    "        return stiched_output\n",
    "    \n",
    "def crop(stitched: np.array):\n",
    "    \"\"\"crop stiched image\n",
    "\n",
    "    :param image: Image to resize\n",
    "    :param dimension:  Expected (width, height) of new image, defaults to (800,250)\n",
    "    :Returns image: Resized image\n",
    "    \"\"\"\n",
    "    stitched = cv2.copyMakeBorder(stitched, 10, 10, 10, 10,\n",
    "\t\t\tcv2.BORDER_CONSTANT, (0, 0, 0))\n",
    "    # convert the stitched image to grayscale and threshold it\n",
    "    # such that all pixels greater than zero are set to 255\n",
    "    # (foreground) while all others remain 0 (background)\n",
    "    gray = cv2.cvtColor(stitched,cv2.COLOR_BGR2GRAY)\n",
    "    thresh = cv2.threshold(gray, 0, 255, cv2.THRESH_BINARY)[1]\n",
    "\t# find all external contours in the threshold image then find\n",
    "\t# the *largest* contour which will be the contour/outline of\n",
    "\t# the stitched image\n",
    "    cnts = cv2.findContours(thresh.copy(), cv2.RETR_EXTERNAL,cv2.CHAIN_APPROX_SIMPLE)\n",
    "    cnts = imutils.grab_contours(cnts)\n",
    "    c = max(cnts, key=cv2.contourArea)\n",
    "\t# allocate memory for the mask which will contain the\n",
    "\t# rectangular bounding box of the stitched image region\n",
    "    mask = np.zeros(thresh.shape, dtype=\"uint8\")\n",
    "    (x, y, w, h) = cv2.boundingRect(c)\n",
    "    cv2.rectangle(mask, (x, y), (x + w, y + h), 255, -1)\n",
    "    minRect = mask.copy()\n",
    "    sub = mask.copy()\n",
    "\t# keep looping until there are no non-zero pixels left in the\n",
    "\t# subtracted image\n",
    "    while cv2.countNonZero(sub) > 0:\n",
    "\t\t# erode the minimum rectangular mask and then subtract\n",
    "\t\t# the thresholded image from the minimum rectangular mask\n",
    "\t\t# so we can count if there are any non-zero pixels left\n",
    "        minRect = cv2.erode(minRect, None)\n",
    "        sub = cv2.subtract(minRect, thresh)\n",
    "    cnts = cv2.findContours(minRect.copy(), cv2.RETR_EXTERNAL,\n",
    "    cv2.CHAIN_APPROX_SIMPLE)\n",
    "    cnts = imutils.grab_contours(cnts)\n",
    "    c = max(cnts, key=cv2.contourArea)\n",
    "    (x, y, w, h) = cv2.boundingRect(c)\n",
    "\t# use the bounding box coordinates to extract the our final\n",
    "\t# stitched image\n",
    "    stitched = stitched[y:y + h, x:x + w]\n",
    "    return stitched\n",
    "\n",
    "\n",
    "\n",
    "def generate_panorama(root_folder):\n",
    "    \"\"\"\n",
    "    \"\"\"\n",
    "    postal_codes = os.listdir(root_folder)\n",
    "    for index, postal_code in enumerate(postal_codes):\n",
    "        print(f\"**** starting processing postal  code {postal_code} images\")\n",
    "        image_list=[]\n",
    "        image_path = os.path.join(root_folder,\n",
    "                                postal_codes[index])\n",
    "\n",
    "        try:\n",
    "            for images in os.listdir(image_path):\n",
    "                # Selecting only horizontal images remove +'_0' to  use all  12 images,  but this might not work  for all images\n",
    "                if (images.endswith(\".png\") and images.startswith(postal_code+'_0')):\n",
    "                    image_list.append(os.path.join(image_path,\n",
    "                                                images))\n",
    "            panorama_view = stich_image(image_list)\n",
    "            panorama_view_cropped = crop(panorama_view)\n",
    "            cv2.imwrite(os.path.join(image_path,\n",
    "                        \"pano_view.png\"), panorama_view_cropped)\n",
    "            print(f\"*** processing postal code {postal_code} images done \")\n",
    "        except Exception as e:\n",
    "            print(f\"stiching of Images of postal code:{postal_code} failed, causes:{e}\")\n",
    "                "
   ]
  },
  {
   "cell_type": "markdown",
   "metadata": {},
   "source": [
    "# Pytorch  utils functions\n",
    "\n",
    "This bloc encapsule all  functions used during the training \n",
    "- *zone_panorama_dataset*: Custom dataset loader for pytorch\n",
    "- *ToTensor*: Convert and normalize Images\n",
    "- *Resize*: Resize Image\n",
    "- *Augment*: Apply augmentation ti images\n",
    "- *Pad*: Pad images by  adding pixels with intenisty of zero\n",
    " \n"
   ]
  },
  {
   "cell_type": "code",
   "execution_count": 4,
   "metadata": {},
   "outputs": [
    {
     "name": "stderr",
     "output_type": "stream",
     "text": [
      "/Users/yvesnsoganguimbous/miniconda3/envs/data622/lib/python3.8/site-packages/torchvision/models/_utils.py:223: UserWarning: Arguments other than a weight enum or `None` for 'weights' are deprecated since 0.13 and may be removed in the future. The current behavior is equivalent to passing `weights=ResNet50_Weights.IMAGENET1K_V1`. You can also use `weights=ResNet50_Weights.DEFAULT` to get the most up-to-date weights.\n",
      "  warnings.warn(msg)\n"
     ]
    }
   ],
   "source": [
    "class zone_panorama_dataset(Dataset):\n",
    "    \"\"\"\n",
    "    \"\"\"\n",
    "\n",
    "    def __init__(self, csv_file, root_dir, transform=None):\n",
    "        \"\"\"_summary_\n",
    "\n",
    "        :param csv_file: _description_\n",
    "        :type csv_file: _type_\n",
    "        :param root_dir: _description_\n",
    "        :type root_dir: _type_\n",
    "        :param transform: _description_, defaults to None\n",
    "        :type transform: _type_, optional\n",
    "        \"\"\"\n",
    "        self.depravation_indices_data = pd.read_csv(csv_file)\n",
    "        self.root_dir = root_dir\n",
    "        self.transform = transform\n",
    "        self.samples = []\n",
    "        postal_codes = os.listdir(self.root_dir)\n",
    "\n",
    "        for postal_code in postal_codes:\n",
    "            image_path = os.path.join(self.root_dir,\n",
    "                                      postal_code)\n",
    "\n",
    "            try:\n",
    "                if os.path.exists(os.path.join(image_path, \"pano_view.png\")):\n",
    "                    image = io.imread(os.path.join(\n",
    "                        image_path, \"pano_view.png\"))\n",
    "                    sample = {\"image\": image,\n",
    "                              \"POSTAL\": postal_code,\n",
    "                              \"SCOREMAT\": self.depravation_indices_data[\"SCOREMAT\"].loc[self.depravation_indices_data[\"POSTALCODE_15\"] == postal_code].values[0],\n",
    "                              \"SCORESOC\": self.depravation_indices_data[\"SCORESOC\"].loc[self.depravation_indices_data[\"POSTALCODE_15\"] == postal_code].values[0]}\n",
    "                    if self.transform:\n",
    "                        sample = self.transform(sample)\n",
    "                    self.samples.append(sample)\n",
    "            except Exception as e:\n",
    "                print(e)\n",
    "                pass\n",
    "\n",
    "    def __len__(self):\n",
    "        return len(self.samples)\n",
    "\n",
    "    def __getitem__(self, index):\n",
    "        if torch.is_tensor(index):\n",
    "            index = index.tolist()\n",
    "        return self.samples[index]\n",
    "\n",
    "\n",
    "class ToTensor(object):\n",
    "    \"\"\"Convert ndarrays in sample to Tensors.\"\"\"\n",
    "\n",
    "    def __call__(self, sample):\n",
    "        image = sample['image']\n",
    "        score_mat = np.asarray([sample[\"SCOREMAT\"]])\n",
    "        score_soc = np.asarray([sample[\"SCORESOC\"]])\n",
    "\n",
    "        # swap color axis because\n",
    "        # numpy image: H x W x C\n",
    "        # torch image: C x H x W\n",
    "        trans = transforms.ToTensor()\n",
    "        sample['image'] = trans(image)\n",
    "        sample[\"SCOREMAT\"] = torch.from_numpy(score_mat)\n",
    "        sample[\"SCORESOC\"] = torch.from_numpy(score_soc)\n",
    "        return sample\n",
    "\n",
    "\n",
    "class Resize(object):\n",
    "    \"\"\"Convert ndarrays in sample to Tensors.\"\"\"\n",
    "\n",
    "    def __init__(self, output_size):\n",
    "        assert isinstance(output_size, (int, tuple))\n",
    "        self.output_size = output_size\n",
    "\n",
    "    def __call__(self, sample):\n",
    "        image = sample['image']\n",
    "        rescaled_image = transform.resize(image, self.output_size)\n",
    "        sample['image'] = rescaled_image\n",
    "        return sample\n",
    "\n",
    "\n",
    "class Augment(object):\n",
    "    \"\"\"\n",
    "    \"\"\"\n",
    "\n",
    "    def __call__(self, sample):\n",
    "        image = Image.fromarray(sample['image'])\n",
    "        trans = transforms.AutoAugment(\n",
    "            transforms.autoaugment.AutoAugmentPolicy.IMAGENET)\n",
    "        transformed_image = trans(image)\n",
    "        sample['image'] = np.array(transformed_image)\n",
    "        return sample\n",
    "\n",
    "\n",
    "class Pad(object):\n",
    "    \"\"\"\n",
    "    \"\"\"\n",
    "\n",
    "    def __call__(self, sample):\n",
    "        img_size = sample['image'].shape\n",
    "        image = Image.fromarray(sample['image'])\n",
    "        trans = transforms.Pad((0, (img_size[1]-img_size[0])//2))\n",
    "        transformed_image = trans(image)\n",
    "        sample['image'] = np.array(transformed_image)\n",
    "        return sample\n",
    "    \n",
    "\n",
    "class LeNet(nn.Module):\n",
    "\tdef __init__(self, numChannels, classes):\n",
    "\t\t# call the parent constructor\n",
    "\t\tsuper(LeNet, self).__init__()\n",
    "\t\t# initialize first set of CONV => RELU => POOL layers\n",
    "\t\tself.conv1 = nn.Conv2d(in_channels=numChannels, out_channels=20,\n",
    "                         kernel_size=(5, 5))\n",
    "\t\tself.relu1 = nn.ReLU()\n",
    "\t\tself.maxpool1 = nn.MaxPool2d(kernel_size=(2, 2), stride=(2, 2))\n",
    "\t\t# initialize second set of CONV => RELU => POOL layers\n",
    "\t\tself.conv2 = nn.Conv2d(in_channels=20, out_channels=50,\n",
    "                         kernel_size=(5, 5))\n",
    "\t\tself.relu2 = nn.ReLU()\n",
    "\t\tself.maxpool2 = nn.MaxPool2d(kernel_size=(2, 2), stride=(2, 2))\n",
    "\t\t# initialize first (and only) set of FC => RELU layers\n",
    "\t\tself.fc1 = nn.Linear(in_features=140450, out_features=2000)\n",
    "\t\tself.relu3 = nn.ReLU()\n",
    "\t\t# initialize our softmax classifier\n",
    "\t\tself.fc2 = nn.Linear(in_features=2000, out_features=classes)\n",
    "\n",
    "\tdef forward(self, x):\n",
    "\t\t# pass the input through our first set of CONV => RELU =>\n",
    "\t\t# POOL layers\n",
    "\t\tx = self.conv1(x)\n",
    "\t\tx = self.relu1(x)\n",
    "\t\tx = self.maxpool1(x)\n",
    "\t\t# pass the output from the previous layer through the second\n",
    "\t\t# set of CONV => RELU => POOL layers\n",
    "\t\tx = self.conv2(x)\n",
    "\t\tx = self.relu2(x)\n",
    "\t\tx = self.maxpool2(x)\n",
    "\t\t# flatten the output from the previous layer and pass it\n",
    "\t\t# through our only set of FC => RELU layers\n",
    "\t\tx = torch.flatten(x, 1)\n",
    "\t\tx = self.fc1(x)\n",
    "\t\tx = self.relu3(x)\n",
    "\t\t# pass the output to our softmax classifier to get our output\n",
    "\t\t# predictions\n",
    "\t\toutput = self.fc2(x)\n",
    "\t\t# return the output predictions\n",
    "\t\treturn output\n",
    "\n",
    "\n",
    "# model = LeNet(numChannels=3,classes=1)\n",
    "\n",
    "# Use pretrained model\n",
    "\n",
    "model = models.resnet50(weights=True)\n",
    "# count = 0\n",
    "# for child in model.children():\n",
    "#   count += 1\n",
    "#   if count < 9:\n",
    "#     for param in child.parameters():\n",
    "#         param.requires_grad = False\n",
    "for param in model.parameters():\n",
    "    param.requires_grad = False\n",
    "num_ftrs = model.fc.in_features\n",
    "# , nn.Linear(1000, 100),nn.Linear(100,1))\n",
    "model.fc = nn.Sequential(nn.Linear(num_ftrs, 1, bias=False))"
   ]
  },
  {
   "cell_type": "markdown",
   "metadata": {},
   "source": [
    "# Regression\n",
    "\n",
    "This bloc demonstrate how to  finetune a pretrain model  on the dataset for a regression  use case"
   ]
  },
  {
   "cell_type": "code",
   "execution_count": 4,
   "metadata": {},
   "outputs": [
    {
     "data": {
      "text/plain": [
       "<Figure size 640x480 with 0 Axes>"
      ]
     },
     "metadata": {},
     "output_type": "display_data"
    },
    {
     "data": {
      "image/png": "[encoded data removed]",
      "text/plain": [
       "<Figure size 4000x4000 with 1 Axes>"
      ]
     },
     "metadata": {},
     "output_type": "display_data"
    },
    {
     "data": {
      "image/png": "[encoded data removed]",
      "text/plain": [
       "<Figure size 4000x4000 with 1 Axes>"
      ]
     },
     "metadata": {},
     "output_type": "display_data"
    },
    {
     "data": {
      "image/png": "[encoded data removed]",
      "text/plain": [
       "<Figure size 4000x4000 with 1 Axes>"
      ]
     },
     "metadata": {},
     "output_type": "display_data"
    },
    {
     "data": {
      "image/png": "[encoded data removed]",
      "text/plain": [
       "<Figure size 4000x4000 with 1 Axes>"
      ]
     },
     "metadata": {},
     "output_type": "display_data"
    },
    {
     "data": {
      "image/png": "[encoded data removed]",
      "text/plain": [
       "<Figure size 4000x4000 with 1 Axes>"
      ]
     },
     "metadata": {},
     "output_type": "display_data"
    },
    {
     "data": {
      "image/png": "[encoded data removed]",
      "text/plain": [
       "<Figure size 4000x4000 with 1 Axes>"
      ]
     },
     "metadata": {},
     "output_type": "display_data"
    },
    {
     "data": {
      "image/png": "[encoded data removed]",
      "text/plain": [
       "<Figure size 4000x4000 with 1 Axes>"
      ]
     },
     "metadata": {},
     "output_type": "display_data"
    },
    {
     "data": {
      "image/png": "[encoded data removed]",
      "text/plain": [
       "<Figure size 4000x4000 with 1 Axes>"
      ]
     },
     "metadata": {},
     "output_type": "display_data"
    },
    {
     "data": {
      "image/png": "[encoded data removed]",
      "text/plain": [
       "<Figure size 4000x4000 with 1 Axes>"
      ]
     },
     "metadata": {},
     "output_type": "display_data"
    },
    {
     "data": {
      "image/png": "[encoded data removed]",
      "text/plain": [
       "<Figure size 4000x4000 with 1 Axes>"
      ]
     },
     "metadata": {},
     "output_type": "display_data"
    }
   ],
   "source": [
    "# Load the dataset for visualization\n",
    "deprivation_dataset = zone_panorama_dataset(\n",
    "    csv_file=\"../Data challenge dataset_complete_no_duplication.csv\", root_dir=\"../GSV_Images_AB\", transform=transforms.Compose([Pad(), Resize((112, 112))]))\n",
    "fig = plt.figure()\n",
    "\n",
    "for i, sample in enumerate(deprivation_dataset):\n",
    "    if sample:\n",
    "        plt.figure(figsize=[40, 40])\n",
    "        ax = plt.subplot(1, 10, i + 1)\n",
    "        plt.tight_layout()\n",
    "        ax.set_title(f'Sample #{i} SCOREMAT:{sample[\"SCOREMAT\"]},SCORESOC:{sample[\"SCORESOC\"]},postal:{sample[\"POSTAL\"]},size:{sample[\"image\"].shape}')\n",
    "        ax.axis('off')\n",
    "        ax.imshow(sample['image'])\n",
    "\n",
    "    if i == 9:\n",
    "        plt.show()\n",
    "        break"
   ]
  },
  {
   "cell_type": "code",
   "execution_count": 16,
   "metadata": {},
   "outputs": [],
   "source": [
    "#Load the dataset for training\n",
    "\n",
    "deprivation_dataset_transformed = zone_panorama_dataset(\n",
    "    csv_file=\"../Data challenge dataset_complete_no_duplication.csv\", root_dir=\"../GSV_Images_AB\", transform=transforms.Compose([Pad(),Augment(),Resize((450,450)),  ToTensor()]))"
   ]
  },
  {
   "cell_type": "code",
   "execution_count": 17,
   "metadata": {},
   "outputs": [],
   "source": [
    "#split the dataset into  train and test set and generate train and validation loaders\n",
    "train_set, val_set = torch.utils.data.random_split(\n",
    "    deprivation_dataset_transformed, [0.7, 0.3])\n",
    "train_loader = DataLoader(train_set, batch_size=100,\n",
    "                          shuffle=True, num_workers=0)\n",
    "test_loader = DataLoader(val_set, batch_size=1,\n",
    "                         shuffle=True, num_workers=0)"
   ]
  },
  {
   "cell_type": "code",
   "execution_count": 18,
   "metadata": {},
   "outputs": [
    {
     "name": "stdout",
     "output_type": "stream",
     "text": [
      "[epoch:1] loss: 27.094\n",
      "[epoch:2] loss: 9.501\n",
      "[epoch:3] loss: 5.944\n",
      "[epoch:4] loss: 3.497\n",
      "[epoch:5] loss: 1.680\n",
      "[epoch:6] loss: 0.864\n",
      "[epoch:7] loss: 0.711\n",
      "[epoch:8] loss: 0.547\n",
      "[epoch:9] loss: 0.400\n",
      "[epoch:10] loss: 0.384\n",
      "Finished Training\n"
     ]
    }
   ],
   "source": [
    "#Fine tune the model\n",
    "\n",
    "criterion = nn.MSELoss()\n",
    "optimizer = optim.Adam(model.parameters(), lr=0.001)\n",
    "model.train()\n",
    "for epoch in range(10):  # loop over the dataset multiple times\n",
    "    running_loss = 0.0\n",
    "    for i, data in enumerate(train_loader, 0):\n",
    "        # get the inputs; data is a list of [inputs, labels]\n",
    "        mat_score = data[\"SCOREMAT\"].float()\n",
    "        # zero the parameter gradients\n",
    "        optimizer.zero_grad()\n",
    "        # forward + backward + optimize\n",
    "        outputs = model(data[\"image\"].float())\n",
    "\n",
    "        loss = criterion(outputs, mat_score)\n",
    "        loss.backward()\n",
    "        optimizer.step()\n",
    "        # print statistics\n",
    "        running_loss += loss.item()*data[\"SCOREMAT\"].size(0)\n",
    "    print(f'[epoch:{epoch + 1}] loss: {running_loss/len(train_loader):.3f}')\n",
    "print('Finished Training')"
   ]
  },
  {
   "cell_type": "code",
   "execution_count": 19,
   "metadata": {},
   "outputs": [
    {
     "name": "stdout",
     "output_type": "stream",
     "text": [
      "Evaluating The model\n",
      "R-squared (R²) Score: -1.3018337315460657\n"
     ]
    }
   ],
   "source": [
    "#Evaluate the model\n",
    "predictions= []\n",
    "scores = []\n",
    "print(\"Evaluating The model\")\n",
    "model.eval()\n",
    "for i, data in enumerate(test_loader, 0):\n",
    "    score = data[\"SCORESOC\"]\n",
    "    prediction = model(data[\"image\"].float())\n",
    "    error = criterion(score, prediction)\n",
    "    scores.append(score.item())\n",
    "    predictions.append(prediction.item())\n",
    "\n",
    "print(f'R-squared (R²) Score: {r2_score(scores, predictions)}')"
   ]
  },
  {
   "cell_type": "code",
   "execution_count": 20,
   "metadata": {},
   "outputs": [
    {
     "data": {
      "application/vnd.plotly.v1+json": {
       "config": {
        "plotlyServerURL": "https://plot.ly"
       },
       "data": [
        {
         "hovertemplate": "variable=predictions<br>index=%{x}<br>value=%{y}<extra></extra>",
         "legendgroup": "predictions",
         "line": {
          "color": "#636efa",
          "dash": "solid"
         },
         "marker": {
          "symbol": "circle"
         },
         "mode": "lines",
         "name": "predictions",
         "orientation": "v",
         "showlegend": true,
         "type": "scatter",
         "x": [
          0,
          1,
          2,
          3,
          4,
          5,
          6,
          7,
          8,
          9,
          10,
          11,
          12,
          13,
          14,
          15,
          16,
          17,
          18,
          19,
          20,
          21,
          22,
          23,
          24,
          25,
          26,
          27,
          28,
          29,
          30,
          31,
          32,
          33,
          34,
          35,
          36,
          37,
          38,
          39,
          40,
          41,
          42,
          43,
          44,
          45,
          46,
          47,
          48,
          49,
          50,
          51,
          52,
          53,
          54,
          55,
          56,
          57,
          58,
          59,
          60,
          61,
          62,
          63,
          64,
          65,
          66,
          67,
          68,
          69,
          70,
          71,
          72,
          73,
          74,
          75,
          76,
          77,
          78,
          79,
          80,
          81,
          82,
          83,
          84,
          85,
          86,
          87,
          88,
          89,
          90,
          91,
          92,
          93,
          94,
          95,
          96,
          97,
          98,
          99,
          100,
          101,
          102,
          103,
          104,
          105,
          106,
          107,
          108,
          109,
          110,
          111,
          112,
          113,
          114,
          115,
          116,
          117,
          118,
          119,
          120,
          121,
          122,
          123,
          124,
          125,
          126,
          127,
          128,
          129,
          130,
          131,
          132,
          133,
          134,
          135,
          136,
          137,
          138,
          139,
          140,
          141,
          142,
          143,
          144,
          145,
          146,
          147,
          148,
          149,
          150,
          151,
          152,
          153,
          154,
          155,
          156,
          157,
          158,
          159,
          160,
          161,
          162,
          163,
          164,
          165,
          166,
          167,
          168,
          169,
          170,
          171,
          172,
          173,
          174,
          175,
          176,
          177,
          178,
          179,
          180,
          181,
          182,
          183,
          184,
          185,
          186,
          187,
          188,
          189,
          190,
          191,
          192,
          193,
          194,
          195,
          196,
          197,
          198,
          199,
          200,
          201,
          202,
          203,
          204,
          205,
          206,
          207,
          208,
          209,
          210,
          211,
          212,
          213,
          214,
          215,
          216,
          217,
          218,
          219,
          220,
          221,
          222,
          223,
          224,
          225,
          226,
          227,
          228,
          229,
          230,
          231,
          232,
          233,
          234,
          235,
          236,
          237,
          238,
          239,
          240,
          241,
          242,
          243,
          244,
          245,
          246,
          247,
          248,
          249,
          250,
          251,
          252,
          253,
          254,
          255,
          256,
          257,
          258,
          259,
          260,
          261,
          262,
          263,
          264,
          265,
          266,
          267,
          268,
          269,
          270,
          271,
          272,
          273,
          274,
          275,
          276,
          277,
          278,
          279,
          280,
          281,
          282,
          283,
          284,
          285,
          286,
          287,
          288,
          289,
          290,
          291,
          292,
          293,
          294,
          295,
          296
         ],
         "xaxis": "x",
         "y": [
          -0.05290709435939789,
          -0.06436499953269958,
          0.006628245115280151,
          -0.020561233162879944,
          0.02005438506603241,
          -0.004016578197479248,
          -0.011114060878753662,
          -0.026714220643043518,
          -0.04783754050731659,
          -0.005644813179969788,
          0.022157415747642517,
          -0.025420069694519043,
          -0.017623111605644226,
          -0.08307334780693054,
          -0.024093404412269592,
          0.005668327212333679,
          -0.04598025977611542,
          -0.0644569993019104,
          -0.02864721417427063,
          -0.023387804627418518,
          -0.16307766735553741,
          -0.06123395264148712,
          -0.06783640384674072,
          0.02684997022151947,
          0.0005285590887069702,
          0.042780786752700806,
          0.007199019193649292,
          -0.04955708980560303,
          -0.05208265781402588,
          -0.021519139409065247,
          -0.06718273460865021,
          0.024411842226982117,
          0.00417715311050415,
          -0.07145291566848755,
          0.02121986448764801,
          0.04050464183092117,
          0.018202483654022217,
          -0.078894704580307,
          -0.06412169337272644,
          0.015639357268810272,
          -0.08870840072631836,
          -0.01781471073627472,
          -0.08016043901443481,
          -0.09602615237236023,
          -0.03691019117832184,
          -0.03218325972557068,
          -0.06624272465705872,
          0.03401133418083191,
          -0.012230455875396729,
          0.011768773198127747,
          -0.06902638077735901,
          0.011879399418830872,
          -0.014965668320655823,
          -0.00853624939918518,
          0.04600173234939575,
          -0.059668540954589844,
          -0.010718807578086853,
          0.06483515352010727,
          -0.019655972719192505,
          -0.05216853320598602,
          -0.0555122047662735,
          -0.0013764649629592896,
          -0.06173248589038849,
          0.13038000464439392,
          -0.10482732951641083,
          -0.03607852756977081,
          -0.03491845726966858,
          -0.06992983818054199,
          -0.08769209682941437,
          0.05361288785934448,
          0.019330933690071106,
          0.05061429738998413,
          0.036743685603141785,
          -0.06337310373783112,
          -0.08397682756185532,
          -0.028646379709243774,
          -0.00235961377620697,
          -0.04199608415365219,
          0.008902519941329956,
          0.01844702661037445,
          -0.02242186665534973,
          -0.03915144503116608,
          0.013148784637451172,
          -0.1303527057170868,
          -0.0392756313085556,
          0.041334182024002075,
          -0.05849355459213257,
          -0.07491859793663025,
          0.008048176765441895,
          -0.040973275899887085,
          0.037526100873947144,
          0.0020477622747421265,
          -0.004357010126113892,
          0.013368502259254456,
          0.006824105978012085,
          -0.05167342722415924,
          0.01019422709941864,
          0.019511371850967407,
          -0.019413352012634277,
          -0.049860887229442596,
          -0.05209599435329437,
          -0.010307073593139648,
          0.027601465582847595,
          -0.006649821996688843,
          0.005833163857460022,
          -0.025956302881240845,
          -0.0075094252824783325,
          -0.009130656719207764,
          0.009745001792907715,
          -0.08114491403102875,
          0.01840636134147644,
          -0.01867242157459259,
          -0.027425840497016907,
          -0.029530182480812073,
          0.09240776300430298,
          -0.07026788592338562,
          -0.03314465284347534,
          -0.052291542291641235,
          -0.05517415702342987,
          -0.0006053894758224487,
          -0.022891312837600708,
          0.004373133182525635,
          -0.04748256504535675,
          0.002672925591468811,
          0.012739047408103943,
          0.03175318241119385,
          0.021025046706199646,
          -0.06720001995563507,
          -0.03203539550304413,
          -0.05086545646190643,
          0.023836970329284668,
          -0.06622348725795746,
          -0.03095528483390808,
          0.025714457035064697,
          0.02509921044111252,
          -0.11956985294818878,
          0.015108689665794373,
          -0.114847332239151,
          0.016861796379089355,
          -0.04049648344516754,
          -0.0018794089555740356,
          -0.011269569396972656,
          -0.04364462196826935,
          -0.01673644781112671,
          -0.06013065576553345,
          -0.10328596830368042,
          -0.03891667723655701,
          0.05562819540500641,
          -0.023195132613182068,
          -0.009845688939094543,
          -0.05699917674064636,
          -0.030360907316207886,
          -0.025651365518569946,
          -0.02125898003578186,
          -0.009792178869247437,
          -0.07103538513183594,
          -0.001723363995552063,
          -0.03789237141609192,
          -0.004047304391860962,
          0.03840109705924988,
          -0.004858687520027161,
          -0.019993767142295837,
          -0.07639609277248383,
          0.0007602274417877197,
          0.024340584874153137,
          0.003068104386329651,
          -0.0049327462911605835,
          -0.0783601924777031,
          0.05651146173477173,
          0.029385477304458618,
          -0.033956751227378845,
          -0.029526785016059875,
          -0.07800839841365814,
          0.02257688343524933,
          -0.021058514714241028,
          -0.13955707848072052,
          0.062085866928100586,
          0.01192215085029602,
          -0.002178966999053955,
          -0.050426185131073,
          0.014378637075424194,
          0.04466739296913147,
          0.000970199704170227,
          -0.005259186029434204,
          0.031152456998825073,
          -0.05660092830657959,
          -0.09179234504699707,
          0.0068721771240234375,
          -0.007039740681648254,
          0.01020541787147522,
          -0.009063035249710083,
          -0.0007171928882598877,
          0.005139976739883423,
          -0.00700785219669342,
          -0.008766129612922668,
          -0.008007794618606567,
          0.0314050167798996,
          -0.016168922185897827,
          0.018842101097106934,
          -0.04427832365036011,
          -0.02397380769252777,
          -0.035053178668022156,
          0.010804086923599243,
          0.024157166481018066,
          0.10281578451395035,
          -0.036424845457077026,
          -0.02471001446247101,
          0.004407212138175964,
          -0.055602431297302246,
          -0.044160500168800354,
          0.0025285333395004272,
          -0.07032018899917603,
          0.006673082709312439,
          -0.06422308087348938,
          -0.036609947681427,
          -0.03456687927246094,
          -0.09615765511989594,
          0.039508894085884094,
          0.019605696201324463,
          -0.029043257236480713,
          -0.001167893409729004,
          -0.07439585030078888,
          0.0015716105699539185,
          0.021305859088897705,
          -0.04651178419589996,
          -0.04986482858657837,
          0.024899393320083618,
          -0.07169346511363983,
          -0.0016507506370544434,
          0.009265750646591187,
          -0.08855310082435608,
          -0.014030471444129944,
          -0.02454274892807007,
          -0.03137652575969696,
          0.04332582652568817,
          -0.012498259544372559,
          -0.02959790825843811,
          -0.02825118601322174,
          -0.03300465643405914,
          -0.027040228247642517,
          -0.029879406094551086,
          0.048191264271736145,
          0.004954636096954346,
          0.009129613637924194,
          -0.000024631619453430176,
          -0.027785763144493103,
          -0.025074616074562073,
          0.011002019047737122,
          0.06227642297744751,
          -0.07320046424865723,
          -0.027820661664009094,
          0.07105102390050888,
          -0.07676586508750916,
          0.009074270725250244,
          0.021847516298294067,
          -0.03586949408054352,
          0.01573711633682251,
          -0.08439263701438904,
          0.027483254671096802,
          0.011468574404716492,
          -0.011084899306297302,
          0.04852868616580963,
          0.06425659358501434,
          0.022416546940803528,
          0.04339345544576645,
          -0.031167805194854736,
          -0.058146506547927856,
          -0.0037260279059410095,
          -0.0542452335357666,
          0.03726986050605774,
          -0.034531861543655396,
          0.02366413176059723,
          0.032425135374069214,
          -0.04929517209529877,
          -0.01239052414894104,
          -0.04858735203742981,
          -0.01799488067626953,
          -0.034990206360816956,
          0.02910161018371582,
          -0.04648961126804352,
          -0.03208516538143158,
          -0.04631197452545166,
          -0.06575924158096313,
          -0.02357335388660431,
          0.010492578148841858,
          -0.0007630884647369385,
          -0.0608997642993927,
          -0.06500662863254547,
          -0.04008039832115173,
          0.03020288050174713,
          -0.06570203602313995,
          0.021747618913650513,
          0.00695328414440155,
          -0.029743552207946777,
          -0.022287070751190186,
          -0.02527126669883728,
          -0.02399255335330963
         ],
         "yaxis": "y"
        },
        {
         "hovertemplate": "variable=actual<br>index=%{x}<br>value=%{y}<extra></extra>",
         "legendgroup": "actual",
         "line": {
          "color": "#EF553B",
          "dash": "solid"
         },
         "marker": {
          "symbol": "circle"
         },
         "mode": "lines",
         "name": "actual",
         "orientation": "v",
         "showlegend": true,
         "type": "scatter",
         "x": [
          0,
          1,
          2,
          3,
          4,
          5,
          6,
          7,
          8,
          9,
          10,
          11,
          12,
          13,
          14,
          15,
          16,
          17,
          18,
          19,
          20,
          21,
          22,
          23,
          24,
          25,
          26,
          27,
          28,
          29,
          30,
          31,
          32,
          33,
          34,
          35,
          36,
          37,
          38,
          39,
          40,
          41,
          42,
          43,
          44,
          45,
          46,
          47,
          48,
          49,
          50,
          51,
          52,
          53,
          54,
          55,
          56,
          57,
          58,
          59,
          60,
          61,
          62,
          63,
          64,
          65,
          66,
          67,
          68,
          69,
          70,
          71,
          72,
          73,
          74,
          75,
          76,
          77,
          78,
          79,
          80,
          81,
          82,
          83,
          84,
          85,
          86,
          87,
          88,
          89,
          90,
          91,
          92,
          93,
          94,
          95,
          96,
          97,
          98,
          99,
          100,
          101,
          102,
          103,
          104,
          105,
          106,
          107,
          108,
          109,
          110,
          111,
          112,
          113,
          114,
          115,
          116,
          117,
          118,
          119,
          120,
          121,
          122,
          123,
          124,
          125,
          126,
          127,
          128,
          129,
          130,
          131,
          132,
          133,
          134,
          135,
          136,
          137,
          138,
          139,
          140,
          141,
          142,
          143,
          144,
          145,
          146,
          147,
          148,
          149,
          150,
          151,
          152,
          153,
          154,
          155,
          156,
          157,
          158,
          159,
          160,
          161,
          162,
          163,
          164,
          165,
          166,
          167,
          168,
          169,
          170,
          171,
          172,
          173,
          174,
          175,
          176,
          177,
          178,
          179,
          180,
          181,
          182,
          183,
          184,
          185,
          186,
          187,
          188,
          189,
          190,
          191,
          192,
          193,
          194,
          195,
          196,
          197,
          198,
          199,
          200,
          201,
          202,
          203,
          204,
          205,
          206,
          207,
          208,
          209,
          210,
          211,
          212,
          213,
          214,
          215,
          216,
          217,
          218,
          219,
          220,
          221,
          222,
          223,
          224,
          225,
          226,
          227,
          228,
          229,
          230,
          231,
          232,
          233,
          234,
          235,
          236,
          237,
          238,
          239,
          240,
          241,
          242,
          243,
          244,
          245,
          246,
          247,
          248,
          249,
          250,
          251,
          252,
          253,
          254,
          255,
          256,
          257,
          258,
          259,
          260,
          261,
          262,
          263,
          264,
          265,
          266,
          267,
          268,
          269,
          270,
          271,
          272,
          273,
          274,
          275,
          276,
          277,
          278,
          279,
          280,
          281,
          282,
          283,
          284,
          285,
          286,
          287,
          288,
          289,
          290,
          291,
          292,
          293,
          294,
          295,
          296
         ],
         "xaxis": "x",
         "y": [
          0.037262828,
          0.076916095,
          -0.000483021,
          -0.07225384,
          0.045242364,
          -0.021857731,
          -0.067414602,
          -0.025501016,
          -0.002708145,
          0.053445284,
          -0.027910962,
          -0.039221934,
          -0.016094547,
          0.017354979,
          0.013210485,
          0.042834132,
          -0.026608957,
          -0.011233561,
          0.014408387,
          0.05851677,
          0.027282306,
          0.061184662,
          -0.000863404,
          -0.042556103,
          0.076174275,
          -0.057918654,
          0.017307412,
          0.00955471,
          0.036337527,
          0.015429198,
          0.004173224,
          -0.046073536,
          0.009438558,
          -0.037429042,
          0.037362405,
          -0.001685252,
          0.014172415,
          -0.080824967,
          0.000118459,
          0.049824964,
          -0.04210491,
          -0.009827402,
          0.010964721,
          -0.014044802,
          0.009825048,
          0.007898105,
          -0.02019038,
          -0.042879459,
          -0.032816927,
          -0.046587243,
          0.023421749,
          0.007898105,
          0.011755719,
          -0.012966909,
          -0.055760555,
          -0.076120106,
          0.012564057,
          0.007898105,
          -0.00492191,
          0.034837801,
          0.02747674,
          0.02945047,
          0.017307412,
          0.053642685,
          0.021846252,
          0.013852839,
          0.0109819,
          0.059650854,
          0.028678429,
          -0.018609873,
          -0.022094245,
          -0.051325666,
          0.020385622,
          -0.021857731,
          -0.028615862,
          -0.002467325,
          -0.002562407,
          -0.051670487,
          0.020789704,
          0.025052234,
          0.049980877,
          -0.026608957,
          0.000118459,
          0.027364045,
          -0.008186807,
          -0.011907787,
          0.076174275,
          0.037262828,
          -0.024465597,
          -0.050399373,
          0.076251718,
          -0.039713076,
          0.000118459,
          0.027528944,
          0.061712772,
          0.036774119,
          -0.00382434,
          -0.080795458,
          -0.009827402,
          -0.019671954,
          0.006611567,
          -0.000922551,
          0.007898105,
          -0.019484638,
          -0.050074871,
          0.096669787,
          0.002052952,
          -0.028871037,
          -0.03784997,
          -0.008027366,
          0.013319316,
          -0.060789187,
          -0.042900571,
          0.044406915,
          0.077047548,
          0.012537221,
          -0.003659081,
          -0.013403095,
          -0.016539302,
          -0.003965694,
          -0.047295858,
          0.017354979,
          0.010393262,
          0.010694868,
          -0.077048609,
          0.048326168,
          0.045015413,
          0.048822634,
          -0.043480008,
          -0.003552377,
          0.096669787,
          -0.00411458,
          -0.038932699,
          0.076251718,
          0.026257166,
          0.087417232,
          0.109882602,
          0.075197512,
          0.003218673,
          0.037950887,
          0.01808347,
          0.042834132,
          -0.001909888,
          -0.044920049,
          -0.02570951,
          -0.000632127,
          -0.028478277,
          0.027528944,
          0.049635846,
          -0.014854654,
          0.017307412,
          0.01978463,
          -0.008027366,
          0.014197933,
          0.02923263,
          0.060341019,
          0.02263251,
          -0.017848818,
          -0.043122454,
          0.014310781,
          -0.049388513,
          -0.035541812,
          -0.000544062,
          0.007550346,
          -0.034896584,
          -0.055947659,
          -0.000922551,
          0.003321306,
          0.040336502,
          -0.021211817,
          -0.068843554,
          -0.042931611,
          0.008095941,
          -0.046546711,
          -0.011502395,
          0.080559573,
          -0.021241467,
          -0.04257209,
          -0.000789721,
          0.098802297,
          -0.063992903,
          0.006043233,
          -0.025729645,
          0.048352369,
          -0.042414821,
          -0.064298202,
          -0.005953605,
          -0.028873877,
          -0.000483021,
          -0.037429042,
          0.043918266,
          -0.008021313,
          0.04527038,
          0.040655038,
          0.013386708,
          0.040503299,
          0.037950887,
          -0.092561103,
          0.01347072,
          0.090815374,
          0.007217308,
          0.021103301,
          -0.013403095,
          0.059650854,
          0.024582202,
          0.017307412,
          -0.049388513,
          -0.045270854,
          0.040655038,
          -0.041057849,
          -0.057419554,
          -0.06762254,
          -0.079632525,
          -0.05624123,
          -0.047297381,
          -0.010416927,
          0.027166532,
          0.024582202,
          0.043844488,
          0.005745144,
          -0.023946227,
          -0.039891405,
          -0.046587243,
          0.036349265,
          0.007898105,
          0.101102055,
          0.0109819,
          -0.000541655,
          -0.046521887,
          -0.002745656,
          0.008539516,
          -0.042421077,
          0.076251718,
          -0.024469373,
          -0.000632127,
          -0.0194463,
          0.070802546,
          -0.002562407,
          0.032123574,
          -0.02222583,
          0.007898105,
          0.039465525,
          0.077122294,
          -0.071229154,
          0.020789704,
          -0.031712807,
          -0.052583911,
          -0.064077092,
          0.066192704,
          -0.04988167,
          0.044299859,
          0.017354979,
          -0.065159444,
          -0.000922551,
          -0.049388513,
          -0.000544062,
          0.095393132,
          0.041066201,
          -0.018898575,
          0.002956223,
          0.059005447,
          0.002027381,
          -0.07279019,
          0.0073603,
          -0.017472943,
          0.002288199,
          0.035590269,
          0.020767957,
          0.027364045,
          0.049980877,
          -0.04210491,
          -0.027617747,
          -0.000277921,
          0.037011817,
          0.031901449,
          -0.04785345,
          -0.003516751,
          -0.038932699,
          -0.008363237,
          -0.097439833,
          -0.056692164,
          0.017307412,
          -0.020927958,
          0.026054681,
          -0.050074871,
          0.06618448,
          0.059088678,
          -0.049697616,
          0.073436922,
          -0.012968344,
          0.090815374,
          0.057999026,
          -0.037105764,
          -0.018015107,
          0.029113983,
          0.006743193,
          -0.048297246
         ],
         "yaxis": "y"
        }
       ],
       "layout": {
        "legend": {
         "title": {
          "text": "variable"
         },
         "tracegroupgap": 0
        },
        "margin": {
         "t": 60
        },
        "template": {
         "data": {
          "bar": [
           {
            "error_x": {
             "color": "#2a3f5f"
            },
            "error_y": {
             "color": "#2a3f5f"
            },
            "marker": {
             "line": {
              "color": "#E5ECF6",
              "width": 0.5
             },
             "pattern": {
              "fillmode": "overlay",
              "size": 10,
              "solidity": 0.2
             }
            },
            "type": "bar"
           }
          ],
          "barpolar": [
           {
            "marker": {
             "line": {
              "color": "#E5ECF6",
              "width": 0.5
             },
             "pattern": {
              "fillmode": "overlay",
              "size": 10,
              "solidity": 0.2
             }
            },
            "type": "barpolar"
           }
          ],
          "carpet": [
           {
            "aaxis": {
             "endlinecolor": "#2a3f5f",
             "gridcolor": "white",
             "linecolor": "white",
             "minorgridcolor": "white",
             "startlinecolor": "#2a3f5f"
            },
            "baxis": {
             "endlinecolor": "#2a3f5f",
             "gridcolor": "white",
             "linecolor": "white",
             "minorgridcolor": "white",
             "startlinecolor": "#2a3f5f"
            },
            "type": "carpet"
           }
          ],
          "choropleth": [
           {
            "colorbar": {
             "outlinewidth": 0,
             "ticks": ""
            },
            "type": "choropleth"
           }
          ],
          "contour": [
           {
            "colorbar": {
             "outlinewidth": 0,
             "ticks": ""
            },
            "colorscale": [
             [
              0,
              "#0d0887"
             ],
             [
              0.1111111111111111,
              "#46039f"
             ],
             [
              0.2222222222222222,
              "#7201a8"
             ],
             [
              0.3333333333333333,
              "#9c179e"
             ],
             [
              0.4444444444444444,
              "#bd3786"
             ],
             [
              0.5555555555555556,
              "#d8576b"
             ],
             [
              0.6666666666666666,
              "#ed7953"
             ],
             [
              0.7777777777777778,
              "#fb9f3a"
             ],
             [
              0.8888888888888888,
              "#fdca26"
             ],
             [
              1,
              "#f0f921"
             ]
            ],
            "type": "contour"
           }
          ],
          "contourcarpet": [
           {
            "colorbar": {
             "outlinewidth": 0,
             "ticks": ""
            },
            "type": "contourcarpet"
           }
          ],
          "heatmap": [
           {
            "colorbar": {
             "outlinewidth": 0,
             "ticks": ""
            },
            "colorscale": [
             [
              0,
              "#0d0887"
             ],
             [
              0.1111111111111111,
              "#46039f"
             ],
             [
              0.2222222222222222,
              "#7201a8"
             ],
             [
              0.3333333333333333,
              "#9c179e"
             ],
             [
              0.4444444444444444,
              "#bd3786"
             ],
             [
              0.5555555555555556,
              "#d8576b"
             ],
             [
              0.6666666666666666,
              "#ed7953"
             ],
             [
              0.7777777777777778,
              "#fb9f3a"
             ],
             [
              0.8888888888888888,
              "#fdca26"
             ],
             [
              1,
              "#f0f921"
             ]
            ],
            "type": "heatmap"
           }
          ],
          "heatmapgl": [
           {
            "colorbar": {
             "outlinewidth": 0,
             "ticks": ""
            },
            "colorscale": [
             [
              0,
              "#0d0887"
             ],
             [
              0.1111111111111111,
              "#46039f"
             ],
             [
              0.2222222222222222,
              "#7201a8"
             ],
             [
              0.3333333333333333,
              "#9c179e"
             ],
             [
              0.4444444444444444,
              "#bd3786"
             ],
             [
              0.5555555555555556,
              "#d8576b"
             ],
             [
              0.6666666666666666,
              "#ed7953"
             ],
             [
              0.7777777777777778,
              "#fb9f3a"
             ],
             [
              0.8888888888888888,
              "#fdca26"
             ],
             [
              1,
              "#f0f921"
             ]
            ],
            "type": "heatmapgl"
           }
          ],
          "histogram": [
           {
            "marker": {
             "pattern": {
              "fillmode": "overlay",
              "size": 10,
              "solidity": 0.2
             }
            },
            "type": "histogram"
           }
          ],
          "histogram2d": [
           {
            "colorbar": {
             "outlinewidth": 0,
             "ticks": ""
            },
            "colorscale": [
             [
              0,
              "#0d0887"
             ],
             [
              0.1111111111111111,
              "#46039f"
             ],
             [
              0.2222222222222222,
              "#7201a8"
             ],
             [
              0.3333333333333333,
              "#9c179e"
             ],
             [
              0.4444444444444444,
              "#bd3786"
             ],
             [
              0.5555555555555556,
              "#d8576b"
             ],
             [
              0.6666666666666666,
              "#ed7953"
             ],
             [
              0.7777777777777778,
              "#fb9f3a"
             ],
             [
              0.8888888888888888,
              "#fdca26"
             ],
             [
              1,
              "#f0f921"
             ]
            ],
            "type": "histogram2d"
           }
          ],
          "histogram2dcontour": [
           {
            "colorbar": {
             "outlinewidth": 0,
             "ticks": ""
            },
            "colorscale": [
             [
              0,
              "#0d0887"
             ],
             [
              0.1111111111111111,
              "#46039f"
             ],
             [
              0.2222222222222222,
              "#7201a8"
             ],
             [
              0.3333333333333333,
              "#9c179e"
             ],
             [
              0.4444444444444444,
              "#bd3786"
             ],
             [
              0.5555555555555556,
              "#d8576b"
             ],
             [
              0.6666666666666666,
              "#ed7953"
             ],
             [
              0.7777777777777778,
              "#fb9f3a"
             ],
             [
              0.8888888888888888,
              "#fdca26"
             ],
             [
              1,
              "#f0f921"
             ]
            ],
            "type": "histogram2dcontour"
           }
          ],
          "mesh3d": [
           {
            "colorbar": {
             "outlinewidth": 0,
             "ticks": ""
            },
            "type": "mesh3d"
           }
          ],
          "parcoords": [
           {
            "line": {
             "colorbar": {
              "outlinewidth": 0,
              "ticks": ""
             }
            },
            "type": "parcoords"
           }
          ],
          "pie": [
           {
            "automargin": true,
            "type": "pie"
           }
          ],
          "scatter": [
           {
            "fillpattern": {
             "fillmode": "overlay",
             "size": 10,
             "solidity": 0.2
            },
            "type": "scatter"
           }
          ],
          "scatter3d": [
           {
            "line": {
             "colorbar": {
              "outlinewidth": 0,
              "ticks": ""
             }
            },
            "marker": {
             "colorbar": {
              "outlinewidth": 0,
              "ticks": ""
             }
            },
            "type": "scatter3d"
           }
          ],
          "scattercarpet": [
           {
            "marker": {
             "colorbar": {
              "outlinewidth": 0,
              "ticks": ""
             }
            },
            "type": "scattercarpet"
           }
          ],
          "scattergeo": [
           {
            "marker": {
             "colorbar": {
              "outlinewidth": 0,
              "ticks": ""
             }
            },
            "type": "scattergeo"
           }
          ],
          "scattergl": [
           {
            "marker": {
             "colorbar": {
              "outlinewidth": 0,
              "ticks": ""
             }
            },
            "type": "scattergl"
           }
          ],
          "scattermapbox": [
           {
            "marker": {
             "colorbar": {
              "outlinewidth": 0,
              "ticks": ""
             }
            },
            "type": "scattermapbox"
           }
          ],
          "scatterpolar": [
           {
            "marker": {
             "colorbar": {
              "outlinewidth": 0,
              "ticks": ""
             }
            },
            "type": "scatterpolar"
           }
          ],
          "scatterpolargl": [
           {
            "marker": {
             "colorbar": {
              "outlinewidth": 0,
              "ticks": ""
             }
            },
            "type": "scatterpolargl"
           }
          ],
          "scatterternary": [
           {
            "marker": {
             "colorbar": {
              "outlinewidth": 0,
              "ticks": ""
             }
            },
            "type": "scatterternary"
           }
          ],
          "surface": [
           {
            "colorbar": {
             "outlinewidth": 0,
             "ticks": ""
            },
            "colorscale": [
             [
              0,
              "#0d0887"
             ],
             [
              0.1111111111111111,
              "#46039f"
             ],
             [
              0.2222222222222222,
              "#7201a8"
             ],
             [
              0.3333333333333333,
              "#9c179e"
             ],
             [
              0.4444444444444444,
              "#bd3786"
             ],
             [
              0.5555555555555556,
              "#d8576b"
             ],
             [
              0.6666666666666666,
              "#ed7953"
             ],
             [
              0.7777777777777778,
              "#fb9f3a"
             ],
             [
              0.8888888888888888,
              "#fdca26"
             ],
             [
              1,
              "#f0f921"
             ]
            ],
            "type": "surface"
           }
          ],
          "table": [
           {
            "cells": {
             "fill": {
              "color": "#EBF0F8"
             },
             "line": {
              "color": "white"
             }
            },
            "header": {
             "fill": {
              "color": "#C8D4E3"
             },
             "line": {
              "color": "white"
             }
            },
            "type": "table"
           }
          ]
         },
         "layout": {
          "annotationdefaults": {
           "arrowcolor": "#2a3f5f",
           "arrowhead": 0,
           "arrowwidth": 1
          },
          "autotypenumbers": "strict",
          "coloraxis": {
           "colorbar": {
            "outlinewidth": 0,
            "ticks": ""
           }
          },
          "colorscale": {
           "diverging": [
            [
             0,
             "#8e0152"
            ],
            [
             0.1,
             "#c51b7d"
            ],
            [
             0.2,
             "#de77ae"
            ],
            [
             0.3,
             "#f1b6da"
            ],
            [
             0.4,
             "#fde0ef"
            ],
            [
             0.5,
             "#f7f7f7"
            ],
            [
             0.6,
             "#e6f5d0"
            ],
            [
             0.7,
             "#b8e186"
            ],
            [
             0.8,
             "#7fbc41"
            ],
            [
             0.9,
             "#4d9221"
            ],
            [
             1,
             "#276419"
            ]
           ],
           "sequential": [
            [
             0,
             "#0d0887"
            ],
            [
             0.1111111111111111,
             "#46039f"
            ],
            [
             0.2222222222222222,
             "#7201a8"
            ],
            [
             0.3333333333333333,
             "#9c179e"
            ],
            [
             0.4444444444444444,
             "#bd3786"
            ],
            [
             0.5555555555555556,
             "#d8576b"
            ],
            [
             0.6666666666666666,
             "#ed7953"
            ],
            [
             0.7777777777777778,
             "#fb9f3a"
            ],
            [
             0.8888888888888888,
             "#fdca26"
            ],
            [
             1,
             "#f0f921"
            ]
           ],
           "sequentialminus": [
            [
             0,
             "#0d0887"
            ],
            [
             0.1111111111111111,
             "#46039f"
            ],
            [
             0.2222222222222222,
             "#7201a8"
            ],
            [
             0.3333333333333333,
             "#9c179e"
            ],
            [
             0.4444444444444444,
             "#bd3786"
            ],
            [
             0.5555555555555556,
             "#d8576b"
            ],
            [
             0.6666666666666666,
             "#ed7953"
            ],
            [
             0.7777777777777778,
             "#fb9f3a"
            ],
            [
             0.8888888888888888,
             "#fdca26"
            ],
            [
             1,
             "#f0f921"
            ]
           ]
          },
          "colorway": [
           "#636efa",
           "#EF553B",
           "#00cc96",
           "#ab63fa",
           "#FFA15A",
           "#19d3f3",
           "#FF6692",
           "#B6E880",
           "#FF97FF",
           "#FECB52"
          ],
          "font": {
           "color": "#2a3f5f"
          },
          "geo": {
           "bgcolor": "white",
           "lakecolor": "white",
           "landcolor": "#E5ECF6",
           "showlakes": true,
           "showland": true,
           "subunitcolor": "white"
          },
          "hoverlabel": {
           "align": "left"
          },
          "hovermode": "closest",
          "mapbox": {
           "style": "light"
          },
          "paper_bgcolor": "white",
          "plot_bgcolor": "#E5ECF6",
          "polar": {
           "angularaxis": {
            "gridcolor": "white",
            "linecolor": "white",
            "ticks": ""
           },
           "bgcolor": "#E5ECF6",
           "radialaxis": {
            "gridcolor": "white",
            "linecolor": "white",
            "ticks": ""
           }
          },
          "scene": {
           "xaxis": {
            "backgroundcolor": "#E5ECF6",
            "gridcolor": "white",
            "gridwidth": 2,
            "linecolor": "white",
            "showbackground": true,
            "ticks": "",
            "zerolinecolor": "white"
           },
           "yaxis": {
            "backgroundcolor": "#E5ECF6",
            "gridcolor": "white",
            "gridwidth": 2,
            "linecolor": "white",
            "showbackground": true,
            "ticks": "",
            "zerolinecolor": "white"
           },
           "zaxis": {
            "backgroundcolor": "#E5ECF6",
            "gridcolor": "white",
            "gridwidth": 2,
            "linecolor": "white",
            "showbackground": true,
            "ticks": "",
            "zerolinecolor": "white"
           }
          },
          "shapedefaults": {
           "line": {
            "color": "#2a3f5f"
           }
          },
          "ternary": {
           "aaxis": {
            "gridcolor": "white",
            "linecolor": "white",
            "ticks": ""
           },
           "baxis": {
            "gridcolor": "white",
            "linecolor": "white",
            "ticks": ""
           },
           "bgcolor": "#E5ECF6",
           "caxis": {
            "gridcolor": "white",
            "linecolor": "white",
            "ticks": ""
           }
          },
          "title": {
           "x": 0.05
          },
          "xaxis": {
           "automargin": true,
           "gridcolor": "white",
           "linecolor": "white",
           "ticks": "",
           "title": {
            "standoff": 15
           },
           "zerolinecolor": "white",
           "zerolinewidth": 2
          },
          "yaxis": {
           "automargin": true,
           "gridcolor": "white",
           "linecolor": "white",
           "ticks": "",
           "title": {
            "standoff": 15
           },
           "zerolinecolor": "white",
           "zerolinewidth": 2
          }
         }
        },
        "xaxis": {
         "anchor": "y",
         "domain": [
          0,
          1
         ],
         "title": {
          "text": "index"
         }
        },
        "yaxis": {
         "anchor": "x",
         "domain": [
          0,
          1
         ],
         "title": {
          "text": "value"
         }
        }
       }
      }
     },
     "metadata": {},
     "output_type": "display_data"
    }
   ],
   "source": [
    "#Visualize the predictions and actual  scores\n",
    "plot_data = pd.DataFrame({\"predictions\":predictions,\"actual\":scores})\n",
    "fig = px.line(plot_data,y=[\n",
    "               \"predictions\", \"actual\"])\n",
    "fig.show()\n"
   ]
  },
  {
   "cell_type": "markdown",
   "metadata": {},
   "source": [
    "# Classification\n",
    "This bloc demonstrate how to  finetune the a pretrained model  for a classification use case"
   ]
  },
  {
   "cell_type": "code",
   "execution_count": 9,
   "metadata": {},
   "outputs": [],
   "source": [
    "#Convert continous variable to  category \n",
    "label_encoder1 = LabelEncoder()\n",
    "label_encoder2 = LabelEncoder()\n",
    "deprevation_cv = pd.read_csv(\n",
    "    \"../Data challenge dataset_complete_no_duplication.csv\")\n",
    "deprevation_cv[\"SCOREMAT\"] = label_encoder1.fit_transform(\n",
    "    pd.cut(deprevation_cv[\"SCOREMAT\"], 4, retbins=True, labels=[\"low\",\"medium_low\",\"medium_high\",\"high\"])[0])\n",
    "deprevation_cv[\"SCORESOC\"] = label_encoder2.fit_transform(\n",
    "    pd.cut(deprevation_cv[\"SCORESOC\"], 4, retbins=True, labels=[\"low\",\"medium_low\",\"medium_high\",\"high\"])[0])\n",
    "deprevation_cv.to_csv(\n",
    "    \"../Data challenge dataset_complete_no_duplication_classification.csv\")"
   ]
  },
  {
   "cell_type": "code",
   "execution_count": 5,
   "metadata": {},
   "outputs": [],
   "source": [
    "# Use pretrained model\n",
    "class_model = models.resnet50(weights=True)\n",
    "for param in class_model.parameters():\n",
    "    param.requires_grad = False\n",
    "num_ftrs = class_model.fc.in_features\n",
    "\n",
    "class_model.fc = nn.Sequential(nn.Linear(num_ftrs, 4), nn.Softmax(dim=1))"
   ]
  },
  {
   "cell_type": "code",
   "execution_count": 6,
   "metadata": {},
   "outputs": [],
   "source": [
    "depravation_dataset_class= zone_panorama_dataset(\n",
    "    csv_file=\"../Data challenge dataset_complete_no_duplication_classification.csv\", root_dir=\"../GSV_Images_AB\", transform=transforms.Compose([Resize((56,56)),  ToTensor()]))"
   ]
  },
  {
   "cell_type": "code",
   "execution_count": 7,
   "metadata": {},
   "outputs": [],
   "source": [
    "train_set_class, val_set_class = torch.utils.data.random_split(\n",
    "    depravation_dataset_class, [0.7, 0.3])\n",
    "train_loader_class = DataLoader(train_set_class, batch_size=100,\n",
    "                          shuffle=True, num_workers=0)\n",
    "test_loader_class = DataLoader(val_set_class, batch_size=100,\n",
    "                         shuffle=True, num_workers=0)"
   ]
  },
  {
   "cell_type": "code",
   "execution_count": 8,
   "metadata": {},
   "outputs": [
    {
     "name": "stdout",
     "output_type": "stream",
     "text": [
      "[epoch: 1, batch:     1] loss: 0.016\n",
      "Accuracy of the model on the 100 images: 12.00 %\n",
      "[epoch: 1, batch:     3] loss: 0.015\n",
      "Accuracy of the model on the 100 images: 27.00 %\n",
      "[epoch: 1, batch:     5] loss: 0.013\n",
      "Accuracy of the model on the 100 images: 36.00 %\n",
      "[epoch: 1, batch:     7] loss: 0.011\n",
      "Accuracy of the model on the 100 images: 49.00 %\n",
      "[epoch: 1, batch:     9] loss: 0.010\n",
      "Accuracy of the model on the 100 images: 56.00 %\n",
      "[epoch: 1, batch:    11] loss: 0.009\n",
      "Accuracy of the model on the 100 images: 55.00 %\n",
      "[epoch: 1, batch:    13] loss: 0.010\n",
      "Accuracy of the model on the 96 images: 50.00 %\n",
      "[epoch: 2, batch:     1] loss: 0.009\n",
      "Accuracy of the model on the 100 images: 53.00 %\n",
      "[epoch: 2, batch:     3] loss: 0.009\n",
      "Accuracy of the model on the 100 images: 57.00 %\n",
      "[epoch: 2, batch:     5] loss: 0.009\n",
      "Accuracy of the model on the 100 images: 51.00 %\n",
      "[epoch: 2, batch:     7] loss: 0.008\n",
      "Accuracy of the model on the 100 images: 57.00 %\n",
      "[epoch: 2, batch:     9] loss: 0.008\n",
      "Accuracy of the model on the 100 images: 55.00 %\n",
      "[epoch: 2, batch:    11] loss: 0.010\n",
      "Accuracy of the model on the 100 images: 48.00 %\n",
      "[epoch: 2, batch:    13] loss: 0.010\n",
      "Accuracy of the model on the 96 images: 44.79 %\n",
      "[epoch: 3, batch:     1] loss: 0.009\n",
      "Accuracy of the model on the 100 images: 55.00 %\n",
      "[epoch: 3, batch:     3] loss: 0.008\n",
      "Accuracy of the model on the 100 images: 50.00 %\n",
      "[epoch: 3, batch:     5] loss: 0.009\n",
      "Accuracy of the model on the 100 images: 62.00 %\n",
      "[epoch: 3, batch:     7] loss: 0.011\n",
      "Accuracy of the model on the 100 images: 54.00 %\n",
      "[epoch: 3, batch:     9] loss: 0.009\n",
      "Accuracy of the model on the 100 images: 57.00 %\n",
      "[epoch: 3, batch:    11] loss: 0.008\n",
      "Accuracy of the model on the 100 images: 52.00 %\n",
      "[epoch: 3, batch:    13] loss: 0.008\n",
      "Accuracy of the model on the 96 images: 61.46 %\n",
      "[epoch: 4, batch:     1] loss: 0.008\n",
      "Accuracy of the model on the 100 images: 64.00 %\n",
      "[epoch: 4, batch:     3] loss: 0.008\n",
      "Accuracy of the model on the 100 images: 62.00 %\n",
      "[epoch: 4, batch:     5] loss: 0.008\n",
      "Accuracy of the model on the 100 images: 57.00 %\n",
      "[epoch: 4, batch:     7] loss: 0.008\n",
      "Accuracy of the model on the 100 images: 67.00 %\n",
      "[epoch: 4, batch:     9] loss: 0.009\n",
      "Accuracy of the model on the 100 images: 55.00 %\n",
      "[epoch: 4, batch:    11] loss: 0.010\n",
      "Accuracy of the model on the 100 images: 55.00 %\n",
      "[epoch: 4, batch:    13] loss: 0.008\n",
      "Accuracy of the model on the 96 images: 58.33 %\n",
      "[epoch: 5, batch:     1] loss: 0.008\n",
      "Accuracy of the model on the 100 images: 58.00 %\n",
      "[epoch: 5, batch:     3] loss: 0.008\n",
      "Accuracy of the model on the 100 images: 61.00 %\n",
      "[epoch: 5, batch:     5] loss: 0.008\n",
      "Accuracy of the model on the 100 images: 61.00 %\n",
      "[epoch: 5, batch:     7] loss: 0.007\n",
      "Accuracy of the model on the 100 images: 67.00 %\n",
      "[epoch: 5, batch:     9] loss: 0.010\n",
      "Accuracy of the model on the 100 images: 59.00 %\n",
      "[epoch: 5, batch:    11] loss: 0.007\n",
      "Accuracy of the model on the 100 images: 63.00 %\n",
      "[epoch: 5, batch:    13] loss: 0.008\n",
      "Accuracy of the model on the 96 images: 63.54 %\n",
      "[epoch: 6, batch:     1] loss: 0.008\n",
      "Accuracy of the model on the 100 images: 64.00 %\n",
      "[epoch: 6, batch:     3] loss: 0.008\n",
      "Accuracy of the model on the 100 images: 63.00 %\n",
      "[epoch: 6, batch:     5] loss: 0.007\n",
      "Accuracy of the model on the 100 images: 57.00 %\n",
      "[epoch: 6, batch:     7] loss: 0.008\n",
      "Accuracy of the model on the 100 images: 67.00 %\n",
      "[epoch: 6, batch:     9] loss: 0.008\n",
      "Accuracy of the model on the 100 images: 65.00 %\n",
      "[epoch: 6, batch:    11] loss: 0.008\n",
      "Accuracy of the model on the 100 images: 69.00 %\n",
      "[epoch: 6, batch:    13] loss: 0.007\n",
      "Accuracy of the model on the 96 images: 71.88 %\n",
      "[epoch: 7, batch:     1] loss: 0.008\n",
      "Accuracy of the model on the 100 images: 61.00 %\n",
      "[epoch: 7, batch:     3] loss: 0.007\n",
      "Accuracy of the model on the 100 images: 69.00 %\n",
      "[epoch: 7, batch:     5] loss: 0.007\n",
      "Accuracy of the model on the 100 images: 72.00 %\n",
      "[epoch: 7, batch:     7] loss: 0.007\n",
      "Accuracy of the model on the 100 images: 68.00 %\n",
      "[epoch: 7, batch:     9] loss: 0.007\n",
      "Accuracy of the model on the 100 images: 70.00 %\n",
      "[epoch: 7, batch:    11] loss: 0.008\n",
      "Accuracy of the model on the 100 images: 66.00 %\n",
      "[epoch: 7, batch:    13] loss: 0.008\n",
      "Accuracy of the model on the 96 images: 58.33 %\n",
      "[epoch: 8, batch:     1] loss: 0.007\n",
      "Accuracy of the model on the 100 images: 74.00 %\n",
      "[epoch: 8, batch:     3] loss: 0.007\n",
      "Accuracy of the model on the 100 images: 73.00 %\n",
      "[epoch: 8, batch:     5] loss: 0.007\n",
      "Accuracy of the model on the 100 images: 69.00 %\n",
      "[epoch: 8, batch:     7] loss: 0.008\n",
      "Accuracy of the model on the 100 images: 65.00 %\n",
      "[epoch: 8, batch:     9] loss: 0.008\n",
      "Accuracy of the model on the 100 images: 66.00 %\n",
      "[epoch: 8, batch:    11] loss: 0.008\n",
      "Accuracy of the model on the 100 images: 74.00 %\n",
      "[epoch: 8, batch:    13] loss: 0.008\n",
      "Accuracy of the model on the 96 images: 60.42 %\n",
      "[epoch: 9, batch:     1] loss: 0.008\n",
      "Accuracy of the model on the 100 images: 70.00 %\n",
      "[epoch: 9, batch:     3] loss: 0.008\n",
      "Accuracy of the model on the 100 images: 68.00 %\n",
      "[epoch: 9, batch:     5] loss: 0.007\n",
      "Accuracy of the model on the 100 images: 64.00 %\n",
      "[epoch: 9, batch:     7] loss: 0.007\n",
      "Accuracy of the model on the 100 images: 66.00 %\n",
      "[epoch: 9, batch:     9] loss: 0.006\n",
      "Accuracy of the model on the 100 images: 77.00 %\n",
      "[epoch: 9, batch:    11] loss: 0.007\n",
      "Accuracy of the model on the 100 images: 72.00 %\n",
      "[epoch: 9, batch:    13] loss: 0.007\n",
      "Accuracy of the model on the 96 images: 72.92 %\n",
      "[epoch: 10, batch:     1] loss: 0.008\n",
      "Accuracy of the model on the 100 images: 62.00 %\n",
      "[epoch: 10, batch:     3] loss: 0.006\n",
      "Accuracy of the model on the 100 images: 74.00 %\n",
      "[epoch: 10, batch:     5] loss: 0.007\n",
      "Accuracy of the model on the 100 images: 70.00 %\n",
      "[epoch: 10, batch:     7] loss: 0.007\n",
      "Accuracy of the model on the 100 images: 60.00 %\n",
      "[epoch: 10, batch:     9] loss: 0.007\n",
      "Accuracy of the model on the 100 images: 77.00 %\n",
      "[epoch: 10, batch:    11] loss: 0.008\n",
      "Accuracy of the model on the 100 images: 69.00 %\n",
      "[epoch: 10, batch:    13] loss: 0.007\n",
      "Accuracy of the model on the 96 images: 70.83 %\n"
     ]
    }
   ],
   "source": [
    "\n",
    "criterion_2 = torch.nn.CrossEntropyLoss()\n",
    "optimizer = torch.optim.SGD(class_model.fc.parameters(\n",
    "), lr=0.001, weight_decay=0.0, momentum=0.9)\n",
    "loss_history = []\n",
    "accuracy_history = []\n",
    "class_model.train()\n",
    "for epoch in range(10):  # loop over the dataset multiple times\n",
    "    running_loss = 0.0\n",
    "    total = 0.0\n",
    "    correct = 0.0\n",
    "    for i, data in enumerate(train_loader_class, 0):\n",
    "        # get the inputs; data is a list of [inputs, labels]\n",
    "        mat_score = data[\"SCOREMAT\"][:,0]\n",
    "        # zero the parameter gradients\n",
    "        optimizer.zero_grad()\n",
    "        # forward + backward + optimize\n",
    "        outputs = class_model(data[\"image\"].float())\n",
    "\n",
    "        # loss = criterion_2(outputs, mat_score)\n",
    "        loss = F.nll_loss(outputs.log(), mat_score)\n",
    "        loss.backward()\n",
    "        optimizer.step()\n",
    "        # print statistics\n",
    "        _, predicted = torch.max(outputs, axis=1)\n",
    "\n",
    "        running_loss += loss.item()\n",
    "        total += mat_score.size(0)\n",
    "        correct += (predicted == mat_score).sum().item()\n",
    "        # Print statistics\n",
    "        if True:    # Print every 100 mini-batches\n",
    "            print('[epoch: %d, batch: %5d] loss: %.3f' % (epoch + 1, i + 1 + i % 10, running_loss / 100))\n",
    "            print('Accuracy of the model on the %d images: %.2f %%' % (total, 100 * correct / total))\n",
    "            loss_history.append(running_loss / 100)\n",
    "            accuracy_history.append(100 * correct / total)\n",
    "            running_loss = 0.0\n",
    "            total = 0.0\n",
    "            correct = 0.0"
   ]
  },
  {
   "cell_type": "code",
   "execution_count": 9,
   "metadata": {},
   "outputs": [
    {
     "name": "stdout",
     "output_type": "stream",
     "text": [
      "\n",
      "Test set: Average loss: 0.0089, Accuracy: 154/297 (52%)\n",
      "\n"
     ]
    }
   ],
   "source": [
    "#evaluate the model\n",
    "class_model.eval()\n",
    "test_loss = 0\n",
    "correct = 0    \n",
    "with torch.no_grad():\n",
    "        for i, data in enumerate(test_loader_class, 0):\n",
    "            mat_score = data[\"SCOREMAT\"][:,0]\n",
    "            output = class_model(data[\"image\"].float())\n",
    "            test_loss += F.nll_loss(output.log(), mat_score).item()  # sum up batch loss\n",
    "            pred = output.max(1, keepdim=True)[1]  # get the index of the max log-probability\n",
    "            correct += pred.eq(mat_score.view_as(pred)).sum().item()\n",
    "\n",
    "test_loss /= len(test_loader_class.dataset)\n",
    "print(\n",
    "    f\"\\nTest set: Average loss: {test_loss:.4f},\"\n",
    "    f\" Accuracy: {correct}/{len(test_loader_class.dataset)}\"\n",
    "    f\" ({100.0 * correct / len(test_loader_class.dataset):.0f}%)\\n\"\n",
    ")"
   ]
  },
  {
   "cell_type": "markdown",
   "metadata": {},
   "source": [
    "# Model Understanding"
   ]
  },
  {
   "cell_type": "code",
   "execution_count": 11,
   "metadata": {},
   "outputs": [],
   "source": [
    "\n",
    "Xplainloader = DataLoader(val_set_class, batch_size=1,\n",
    "                               shuffle=False, num_workers=0)\n",
    "\n",
    "image = next(iter(Xplainloader))"
   ]
  },
  {
   "cell_type": "code",
   "execution_count": 46,
   "metadata": {},
   "outputs": [],
   "source": [
    "idx_to_labels ={\"1\":\"low\",\"2\":\"medium_low\",\"3\":\"medium_high\",\"4\":\"high\"}"
   ]
  },
  {
   "cell_type": "code",
   "execution_count": 32,
   "metadata": {},
   "outputs": [
    {
     "name": "stdout",
     "output_type": "stream",
     "text": [
      "Predicted: medium_low ( 0.530436635017395 )\n"
     ]
    }
   ],
   "source": [
    "output = class_model(image[\"image\"].float())\n",
    "prediction_score, pred_label_idx = torch.topk(output, 1)\n",
    "pred_label_idx.squeeze_()\n",
    "predicted_label = idx_to_labels[str(pred_label_idx.item())]\n",
    "print('Predicted:', predicted_label, '(', prediction_score.squeeze().item(), ')')"
   ]
  },
  {
   "cell_type": "code",
   "execution_count": 12,
   "metadata": {},
   "outputs": [],
   "source": [
    "def attribute_image_features(algorithm, input, **kwargs):\n",
    "    class_model.zero_grad()\n",
    "    tensor_attributions = algorithm.attribute(image[\"image\"].float(),\n",
    "                                              target=image[\"SCOREMAT\"],\n",
    "                                              **kwargs\n",
    "                                              )\n",
    "\n",
    "    return tensor_attributions"
   ]
  },
  {
   "cell_type": "code",
   "execution_count": 14,
   "metadata": {},
   "outputs": [
    {
     "name": "stderr",
     "output_type": "stream",
     "text": [
      "/Users/yvesnsoganguimbous/miniconda3/envs/data622/lib/python3.8/site-packages/captum/_utils/gradient.py:57: UserWarning: Input Tensor 0 did not already require gradients, required_grads has been set automatically.\n",
      "  warnings.warn(\n"
     ]
    }
   ],
   "source": [
    "saliency = Saliency(class_model)\n",
    "grads = saliency.attribute(image[\"image\"].float(), target=image[\"SCOREMAT\"].item())\n",
    "grads = np.transpose(grads.squeeze().cpu().detach().numpy(), (1, 2, 0))"
   ]
  },
  {
   "cell_type": "code",
   "execution_count": 15,
   "metadata": {},
   "outputs": [
    {
     "name": "stdout",
     "output_type": "stream",
     "text": [
      "Approximation delta:  tensor([0.0783], dtype=torch.float64)\n"
     ]
    }
   ],
   "source": [
    "ig = IntegratedGradients(class_model)\n",
    "attr_ig, delta = attribute_image_features(\n",
    "    ig, image[\"image\"].float(), baselines=image[\"image\"].float() * 0, return_convergence_delta=True)\n",
    "attr_ig = np.transpose(attr_ig.squeeze().cpu().detach().numpy(), (1, 2, 0))\n",
    "print('Approximation delta: ', abs(delta))"
   ]
  },
  {
   "cell_type": "code",
   "execution_count": 16,
   "metadata": {},
   "outputs": [],
   "source": [
    "ig = IntegratedGradients(class_model)\n",
    "nt = NoiseTunnel(ig)\n",
    "attr_ig_nt = attribute_image_features(nt, image[\"image\"].float(), baselines=image[\"image\"].float() * 0, nt_type='smoothgrad_sq',\n",
    "                                      nt_samples=100, stdevs=0.2)\n",
    "attr_ig_nt = np.transpose(attr_ig_nt.squeeze(\n",
    "    0).cpu().detach().numpy(), (1, 2, 0))"
   ]
  },
  {
   "cell_type": "code",
   "execution_count": null,
   "metadata": {},
   "outputs": [],
   "source": [
    "dl = DeepLift(class_model)\n",
    "attr_dl = attribute_image_features(\n",
    "    dl, image[\"image\"].unsqueeze(0), baselines=image[\"image\"].unsqueeze(0) * 0)\n",
    "attr_dl = np.transpose(attr_dl.squeeze(0).cpu().detach().numpy(), (1, 2, 0))"
   ]
  },
  {
   "cell_type": "code",
   "execution_count": 22,
   "metadata": {},
   "outputs": [
    {
     "data": {
      "image/png": "[encoded data removed]",
      "text/plain": [
       "<Figure size 600x600 with 1 Axes>"
      ]
     },
     "metadata": {},
     "output_type": "display_data"
    },
    {
     "data": {
      "image/png": "[encoded data removed]",
      "text/plain": [
       "<Figure size 600x600 with 2 Axes>"
      ]
     },
     "metadata": {},
     "output_type": "display_data"
    },
    {
     "data": {
      "image/png": "[encoded data removed]",
      "text/plain": [
       "<Figure size 600x600 with 2 Axes>"
      ]
     },
     "metadata": {},
     "output_type": "display_data"
    },
    {
     "data": {
      "image/png": "[encoded data removed]",
      "text/plain": [
       "<Figure size 600x600 with 2 Axes>"
      ]
     },
     "metadata": {},
     "output_type": "display_data"
    }
   ],
   "source": [
    "original_image = np.transpose(\n",
    "    (image[\"image\"].float()[0].cpu().detach().numpy() / 2) + 0.5, (1, 2, 0))\n",
    "\n",
    "_ = viz.visualize_image_attr(None, original_image,\n",
    "                             method=\"original_image\", title=\"Original Image\")\n",
    "\n",
    "_ = viz.visualize_image_attr(grads, original_image, method=\"blended_heat_map\", sign=\"absolute_value\",\n",
    "                             show_colorbar=True, title=\"Overlayed Gradient Magnitudes\")\n",
    "\n",
    "_ = viz.visualize_image_attr(attr_ig, original_image, method=\"blended_heat_map\", sign=\"all\",\n",
    "                             show_colorbar=True, title=\"Overlayed Integrated Gradients\")\n",
    "\n",
    "_ = viz.visualize_image_attr(attr_ig_nt, original_image, method=\"blended_heat_map\", sign=\"absolute_value\",\n",
    "                             outlier_perc=10, show_colorbar=True,\n",
    "                             title=\"Overlayed Integrated Gradients \\n with SmoothGrad Squared\")\n",
    "\n",
    "# _ = viz.visualize_image_attr(attr_dl, original_image, method=\"blended_heat_map\", sign=\"all\", show_colorbar=True,\n",
    "#                              title=\"Overlayed DeepLift\")"
   ]
  }
 ],
 "metadata": {
  "kernelspec": {
   "display_name": "data622",
   "language": "python",
   "name": "python3"
  },
  "language_info": {
   "codemirror_mode": {
    "name": "ipython",
    "version": 3
   },
   "file_extension": ".py",
   "mimetype": "text/x-python",
   "name": "python",
   "nbconvert_exporter": "python",
   "pygments_lexer": "ipython3",
   "version": "3.8.18"
  }
 },
 "nbformat": 4,
 "nbformat_minor": 2
}
